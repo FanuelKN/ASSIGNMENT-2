{
 "cells": [
  {
   "cell_type": "code",
   "execution_count": 1,
   "metadata": {},
   "outputs": [
    {
     "name": "stderr",
     "output_type": "stream",
     "text": [
      "┌ Info: Precompiling Cbc [9961bab8-2fa3-5c5a-9d89-47fab24efd76]\n",
      "└ @ Base loading.jl:1273\n"
     ]
    }
   ],
   "source": [
    "using MathProgBase, Cbc"
   ]
  },
  {
   "cell_type": "code",
   "execution_count": 2,
   "metadata": {},
   "outputs": [
    {
     "data": {
      "text/plain": [
       "solve (generic function with 1 method)"
      ]
     },
     "execution_count": 2,
     "metadata": {},
     "output_type": "execute_result"
    }
   ],
   "source": [
    "#function\n",
    "\n",
    "struct list{T<:Integer}\n",
    "    item::String\n",
    "    weight::T\n",
    "    value::T\n",
    "    quant::T\n",
    "end\n",
    "Base.show(io::IO, kdps::list) = print(io, kdps.quant, \" \", kdps.item, \" ($(kdps.weight) kg, $(kdps.value) €)\")\n",
    " \n",
    "function solve(num::Vector{list{T}}, capacity::Integer) where T<:Integer\n",
    "    w = getfield.(num, :weight)\n",
    "    v = getfield.(num, :value)\n",
    "    q = getfield.(num, :quant)\n",
    "    \n",
    "    sol = mixintprog(-v, w', '<', capacity, :Int, 0, q, CbcSolver())\n",
    "    sol.status == :Optimal || error(\"this problem could not be solved\")\n",
    " \n",
    "    if all(q .== 1) # simpler case\n",
    "        return num[sol.sol == 1.0]\n",
    "    else\n",
    "        pack = similar(num, 0)\n",
    "        s = round.(Int, sol.sol)\n",
    "        for (i, g) in enumerate(num)\n",
    "            iszero(s[i]) && continue\n",
    "            push!(pack, list(g.item, g.weight, g.value, s[i]))\n",
    "        end\n",
    "        return pack\n",
    "    end\n",
    "end"
   ]
  },
  {
   "cell_type": "code",
   "execution_count": null,
   "metadata": {},
   "outputs": [],
   "source": [
    "#main class\n",
    "\n",
    "\n",
    "#Scenerio: A student wants to travel, she makes a list of what she wants to bring for the trip, she wish to park all 15 items,\n",
    "           # but the total weight of all items is too much, She adds a value to each item, The value represents how important\n",
    "           # the item is for trip.\n",
    "           \n",
    "         \n",
    "#consider having a list of 15 items\n",
    "#num variable consist of the list of items as follows:(Name of the item,weight,value,unit)\n",
    "\n",
    "num = [list(\"T-shirt\", 65, 150, 3),\n",
    "        list(\"Dress\", 70, 200, 2),\n",
    "        list(\"water\",100 , 130, 1),\n",
    "        list(\"Trouder\", 80, 180, 2),\n",
    "        list(\"Ball\", 15, 45, 1),\n",
    "        list(\"Watch\", 25, 60, 1),\n",
    "        list(\"towel\", 40, 50, 1),\n",
    "        list(\"comb\",5 , 55, 1),\n",
    "        list(\"camera\", 33, 70, 1),\n",
    "        list(\"Mirror\", 8, 65, 1),\n",
    "        list(\"Pc\", 95, 300, 1),\n",
    "        list(\"Phone\", 35, 250, 1),\n",
    "        list(\"Book\", 20, 80, 1),\n",
    "        list(\"Earphones\", 3, 75, 1),\n",
    "        list(\"blanket\",95 , 209, 1)]\n",
    "\n",
    "\n",
    "# pack variable specify the items and the capacity for the knapsack the student should carry\n",
    "\n",
    "pack = solve(num,500)\n",
    "println(\"The Student should pack: \\n - \", join(pack, \"\\n - \"))\n",
    "println(\"\\nPacked weight: \", sum(getfield.(pack, :weight)), \" kg\")\n",
    "println(\"Packed value: \", sum(getfield.(pack, :value)), \" €\")        "
   ]
  }
 ],
 "metadata": {
  "kernelspec": {
   "display_name": "Julia 1.3.1",
   "language": "julia",
   "name": "julia-1.3"
  },
  "language_info": {
   "file_extension": ".jl",
   "mimetype": "application/julia",
   "name": "julia",
   "version": "1.3.1"
  }
 },
 "nbformat": 4,
 "nbformat_minor": 4
}
